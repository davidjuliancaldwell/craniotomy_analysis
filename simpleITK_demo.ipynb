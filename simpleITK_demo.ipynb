{
 "cells": [
  {
   "cell_type": "code",
   "execution_count": 1,
   "metadata": {},
   "outputs": [],
   "source": [
    "from __future__ import print_function\n",
    "\n",
    "import SimpleITK as sitk\n",
    "\n",
    "#%matplotlib inline\n",
    "import matplotlib.pyplot as plt\n",
    "import numpy as np\n",
    "\n",
    "from ipywidgets import interact, fixed\n",
    "import os\n",
    "import gui\n",
    "import resample_itk_image\n",
    "from myshow import myshow, myshow3d\n",
    "from itertools import chain\n",
    "\n",
    "import pandas as pd\n",
    "\n",
    "%matplotlib widget"
   ]
  },
  {
   "cell_type": "code",
   "execution_count": 39,
   "metadata": {},
   "outputs": [],
   "source": [
    "# ubuntu\n",
    "#data_folder = \"/home/djcald/craniotomy_analysis/data\"\n",
    "\n",
    "# PC\n",
    "data_folder = r\"C:\\Users\\david\\OneDrive - UW\\craniotomy_analysis_data\"\n",
    "subj_name = \"subj\" + \"1\"\n",
    "data_subj = os.path.join(data_folder, subj_name,\"rawdicom\")\n",
    "OUTPUT_DIR = os.path.join(data_folder,subj_name,'output')"
   ]
  },
  {
   "cell_type": "code",
   "execution_count": 3,
   "metadata": {},
   "outputs": [],
   "source": [
    "# Read the original series. First obtain the series file names using the\n",
    "# image series reader.\n",
    "series_IDs = sitk.ImageSeriesReader.GetGDCMSeriesIDs(data_subj)\n",
    "if not series_IDs:\n",
    "    print(\"ERROR: given directory \\\"\"+data_folder+\"\\\" does not contain a DICOM series.\")\n",
    "    \n",
    "series_file_names = sitk.ImageSeriesReader.GetGDCMSeriesFileNames(data_subj, series_IDs[0])\n",
    "\n",
    "series_reader = sitk.ImageSeriesReader()\n",
    "series_reader.SetFileNames(series_file_names)\n",
    "\n",
    "# Configure the reader to load all of the DICOM tags (public+private):\n",
    "# By default tags are not loaded (saves time).\n",
    "# By default if tags are loaded, the private tags are not loaded.\n",
    "# We explicitly configure the reader to load tags, including the\n",
    "# private ones.\n",
    "series_reader.MetaDataDictionaryArrayUpdateOn()\n",
    "#series_reader.LoadPrivateTagsOn()\n",
    "image3D = series_reader.Execute()"
   ]
  },
  {
   "cell_type": "code",
   "execution_count": 4,
   "metadata": {},
   "outputs": [],
   "source": [
    "reader = sitk.ImageFileReader()\n",
    "reader.SetFileName(series_file_names[0])\n",
    "#reader.LoadPrivateTagsOn();\n",
    "\n",
    "reader.ReadImageInformation();\n",
    "\n",
    "#for k in reader.GetMetaDataKeys():\n",
    "#    v = reader.GetMetaData(k)\n",
    "#    print(\"({0}) = = \\\"{1}\\\"\".format(k,v))"
   ]
  },
  {
   "cell_type": "code",
   "execution_count": 5,
   "metadata": {},
   "outputs": [
    {
     "name": "stdout",
     "output_type": "stream",
     "text": [
      "Image Spacing  (0.46904315196998, 0.46875, 2.0003387928009033)\n",
      "Image Size  (533, 512, 110)\n"
     ]
    }
   ],
   "source": [
    "print('Image Spacing ',image3D.GetSpacing())\n",
    "print('Image Size ', image3D.GetSize())\n",
    "\n",
    "orig_size = image3D.GetSpacing()\n",
    "    \n"
   ]
  },
  {
   "cell_type": "code",
   "execution_count": 6,
   "metadata": {},
   "outputs": [],
   "source": [
    "image3D_resample = resample_itk_image.resample_img(image3D,[1,1,1])\n"
   ]
  },
  {
   "cell_type": "code",
   "execution_count": 7,
   "metadata": {},
   "outputs": [],
   "source": [
    "# recast types as necessary for analysis \n",
    "\n",
    "recast_image3D = sitk.Cast(sitk.RescaleIntensity(image3D_resample), sitk.sitkUInt8)\n",
    "recast32_image3D = sitk.Cast(image3D_resample, sitk.sitkFloat32)\n",
    "#\n",
    "#img = sitk.ReadImage(series_file_names)"
   ]
  },
  {
   "cell_type": "code",
   "execution_count": 8,
   "metadata": {},
   "outputs": [
    {
     "data": {
      "application/vnd.jupyter.widget-view+json": {
       "model_id": "7fd66f5e66cf430e9f4cdfbb2cd10542",
       "version_major": 2,
       "version_minor": 0
      },
      "text/plain": [
       "Canvas(toolbar=Toolbar(toolitems=[('Home', 'Reset original view', 'home', 'home'), ('Back', 'Back to previous …"
      ]
     },
     "metadata": {},
     "output_type": "display_data"
    }
   ],
   "source": [
    "z = int(image3D.GetDepth()/2)\n",
    "plt.imshow(sitk.GetArrayViewFromImage(image3D)[z,:,:], cmap=plt.cm.Greys_r)\n",
    "plt.axis('off');"
   ]
  },
  {
   "cell_type": "code",
   "execution_count": 9,
   "metadata": {},
   "outputs": [
    {
     "data": {
      "application/vnd.jupyter.widget-view+json": {
       "model_id": "44019256e1db4f359aa1ada06790ab27",
       "version_major": 2,
       "version_minor": 0
      },
      "text/plain": [
       "Canvas(toolbar=Toolbar(toolitems=[('Home', 'Reset original view', 'home', 'home'), ('Back', 'Back to previous …"
      ]
     },
     "metadata": {},
     "output_type": "display_data"
    }
   ],
   "source": [
    "intensity_values = sitk.GetArrayViewFromImage(image3D)\n",
    "values_list = list(intensity_values)\n",
    "values_flattened = list(chain.from_iterable(values_list))\n",
    "values_flattened = np.array(values_flattened).flatten()\n",
    "\n",
    "plt.figure()\n",
    "plt.hist(values_flattened, bins=100)\n",
    "plt.title(\"Intensity Values in ROI\")\n",
    "plt.show()      "
   ]
  },
  {
   "cell_type": "code",
   "execution_count": 10,
   "metadata": {},
   "outputs": [
    {
     "data": {
      "application/vnd.jupyter.widget-view+json": {
       "model_id": "e312ea88384447abbc78fd0aa3256f18",
       "version_major": 2,
       "version_minor": 0
      },
      "text/plain": [
       "HBox(children=(HBox(children=(Box(children=(RadioButtons(description='Interaction mode:', options=('edit', 'vi…"
      ]
     },
     "metadata": {},
     "output_type": "display_data"
    },
    {
     "data": {
      "application/vnd.jupyter.widget-view+json": {
       "model_id": "358aa35d1fe74a36af16aab39fbee84b",
       "version_major": 2,
       "version_minor": 0
      },
      "text/plain": [
       "Canvas(toolbar=Toolbar(toolitems=[('Home', 'Reset original view', 'home', 'home'), ('Back', 'Back to previous …"
      ]
     },
     "metadata": {},
     "output_type": "display_data"
    }
   ],
   "source": [
    "point_acquisition_interface = gui.PointDataAquisition(image3D_resample)"
   ]
  },
  {
   "cell_type": "code",
   "execution_count": 11,
   "metadata": {},
   "outputs": [
    {
     "data": {
      "text/plain": [
       "[(77, 39, 109),\n",
       " (145, 28, 109),\n",
       " (180, 52, 109),\n",
       " (54, 77, 109),\n",
       " (161, 146, 109),\n",
       " (63, 140, 109)]"
      ]
     },
     "execution_count": 11,
     "metadata": {},
     "output_type": "execute_result"
    }
   ],
   "source": [
    "initial_seed_point_indexes = point_acquisition_interface.get_point_indexes()\n",
    "\n",
    "initial_seed_point_indexes"
   ]
  },
  {
   "cell_type": "code",
   "execution_count": 41,
   "metadata": {},
   "outputs": [
    {
     "data": {
      "application/vnd.jupyter.widget-view+json": {
       "model_id": "19613773dd024555a44d103b07faddd3",
       "version_major": 2,
       "version_minor": 0
      },
      "text/plain": [
       "VBox(children=(Box(children=(IntSlider(value=109, description='image slice:', max=219),)), Box(children=(IntRa…"
      ]
     },
     "metadata": {},
     "output_type": "display_data"
    },
    {
     "name": "stderr",
     "output_type": "stream",
     "text": [
      "C:\\Users\\david\\SharedCode\\craniotomy_analysis\\gui.py:464: RuntimeWarning: More than 20 figures have been opened. Figures created through the pyplot interface (`matplotlib.pyplot.figure`) are retained until explicitly closed and may consume too much memory. (To control this warning, see the rcParam `figure.max_open_warning`).\n",
      "  self.fig, self.axes = plt.subplots(row_num,col_num,figsize=figure_size)\n"
     ]
    },
    {
     "data": {
      "application/vnd.jupyter.widget-view+json": {
       "model_id": "5c532658470a46e493e4f6448b2a3a9c",
       "version_major": 2,
       "version_minor": 0
      },
      "text/plain": [
       "Canvas(toolbar=Toolbar(toolitems=[('Home', 'Reset original view', 'home', 'home'), ('Back', 'Back to previous …"
      ]
     },
     "metadata": {},
     "output_type": "display_data"
    },
    {
     "data": {
      "text/plain": [
       "<gui.MultiImageDisplay at 0x213a8c2b048>"
      ]
     },
     "execution_count": 41,
     "metadata": {},
     "output_type": "execute_result"
    }
   ],
   "source": [
    "#seg_implicit_thresholds = sitk.ConfidenceConnected(image3D, seedList=initial_seed_point_indexes,\n",
    "#                                                   numberOfIterations=1,\n",
    "#                                                   multiplier=2,\n",
    "#                                                   initialNeighborhoodRadius=5,\n",
    "#                                                   replaceValue=1)\n",
    "\n",
    "seg_implicit_thresholds = sitk.ConnectedThreshold(image3D_resample, seedList=initial_seed_point_indexes, lower=400, upper=1700)\n",
    "\n",
    "gui.MultiImageDisplay(image_list = [sitk.LabelOverlay(recast_image3D, seg_implicit_thresholds)],                   \n",
    "                      title_list = ['confidence connected result'])"
   ]
  },
  {
   "cell_type": "code",
   "execution_count": 13,
   "metadata": {},
   "outputs": [
    {
     "data": {
      "application/vnd.jupyter.widget-view+json": {
       "model_id": "42e2bf99bf25474d8c375000d325ade1",
       "version_major": 2,
       "version_minor": 0
      },
      "text/plain": [
       "interactive(children=(IntSlider(value=109, description='z', max=219), Output()), _dom_classes=('widget-interac…"
      ]
     },
     "metadata": {},
     "output_type": "display_data"
    }
   ],
   "source": [
    "myshow3d(seg_implicit_thresholds)"
   ]
  },
  {
   "cell_type": "code",
   "execution_count": 14,
   "metadata": {
    "scrolled": true
   },
   "outputs": [
    {
     "data": {
      "text/plain": [
       "6"
      ]
     },
     "execution_count": 14,
     "metadata": {},
     "output_type": "execute_result"
    }
   ],
   "source": [
    "len(initial_seed_point_indexes)"
   ]
  },
  {
   "cell_type": "code",
   "execution_count": 15,
   "metadata": {},
   "outputs": [],
   "source": [
    "seg = sitk.Image(image3D_resample.GetSize(), sitk.sitkUInt8)\n",
    "seg.CopyInformation(image3D_resample)\n",
    "for index in range(1,len(initial_seed_point_indexes)):\n",
    "    seg[initial_seed_point_indexes[index]] = 1\n",
    "seg = sitk.BinaryDilate(seg, 10)"
   ]
  },
  {
   "cell_type": "code",
   "execution_count": 16,
   "metadata": {},
   "outputs": [
    {
     "data": {
      "application/vnd.jupyter.widget-view+json": {
       "model_id": "cf58b68d53d24b189a68af3f5616da60",
       "version_major": 2,
       "version_minor": 0
      },
      "text/plain": [
       "interactive(children=(IntSlider(value=109, description='z', max=219), Output()), _dom_classes=('widget-interac…"
      ]
     },
     "metadata": {},
     "output_type": "display_data"
    }
   ],
   "source": [
    "myshow(sitk.LabelOverlay(recast_image3D, seg))"
   ]
  },
  {
   "cell_type": "code",
   "execution_count": 17,
   "metadata": {},
   "outputs": [
    {
     "name": "stdout",
     "output_type": "stream",
     "text": [
      "300 1700\n"
     ]
    }
   ],
   "source": [
    "#stats = sitk.LabelStatisticsImageFilter()\n",
    "#stats.Execute(image3D, seg)\n",
    "\n",
    "#factor = 3.5\n",
    "#lower_threshold = stats.GetMean(1)-factor*stats.GetSigma(1)\n",
    "#upper_threshold = stats.GetMean(1)+factor*stats.GetSigma(1)\n",
    "#print(stats)\n",
    "\n",
    "lower_threshold = 300\n",
    "upper_threshold = 1700\n",
    "print(lower_threshold,upper_threshold)"
   ]
  },
  {
   "cell_type": "code",
   "execution_count": 18,
   "metadata": {},
   "outputs": [],
   "source": [
    "init_ls = sitk.SignedMaurerDistanceMap(seg, insideIsPositive=True, useImageSpacing=True)"
   ]
  },
  {
   "cell_type": "code",
   "execution_count": 19,
   "metadata": {},
   "outputs": [
    {
     "name": "stdout",
     "output_type": "stream",
     "text": [
      "itk::simple::ThresholdSegmentationLevelSetImageFilter\n",
      "  LowerThreshold: 300\n",
      "  UpperThreshold: 1700\n",
      "  MaximumRMSError: 0.005\n",
      "  PropagationScaling: 1\n",
      "  CurvatureScaling: 1\n",
      "  NumberOfIterations: 1000\n",
      "  ReverseExpansionDirection: 1\n",
      "  ElapsedIterations: 1000\n",
      "  RMSChange: 0.00915952\n",
      "  Debug: 0\n",
      "  NumberOfThreads: 12\n",
      "  Commands: (none)\n",
      "  ProgressMeasurement: 1\n",
      "  ActiveProcess: (none)\n",
      "\n"
     ]
    }
   ],
   "source": [
    "lsFilter = sitk.ThresholdSegmentationLevelSetImageFilter()\n",
    "lsFilter.SetLowerThreshold(lower_threshold)\n",
    "lsFilter.SetUpperThreshold(upper_threshold)\n",
    "lsFilter.SetMaximumRMSError(0.005)\n",
    "lsFilter.SetNumberOfIterations(1000)\n",
    "lsFilter.SetCurvatureScaling(1)\n",
    "lsFilter.SetPropagationScaling(1)\n",
    "lsFilter.ReverseExpansionDirectionOn()\n",
    "\n",
    "#niter = 0\n",
    "#for i in range(0,10):\n",
    "#    ls = lsFilter.Execute(init_ls,recast32_image3D)\n",
    "#    niter += lsFilter.GetNumberOfIterations()\n",
    "#    t = \"LevelSet after \"+str(niter)+\" iterations and RMS \"+str(lsFilter.GetRMSChange())\n",
    "#    fig = myshow(sitk.LabelOverlay(recast_image3D, ls > 0),title=t)\n",
    "ls = lsFilter.Execute(init_ls,recast32_image3D)    \n",
    "print(lsFilter)"
   ]
  },
  {
   "cell_type": "code",
   "execution_count": 20,
   "metadata": {
    "scrolled": true
   },
   "outputs": [
    {
     "data": {
      "application/vnd.jupyter.widget-view+json": {
       "model_id": "2317da63366845eba05c29fc3374a162",
       "version_major": 2,
       "version_minor": 0
      },
      "text/plain": [
       "interactive(children=(IntSlider(value=109, description='z', max=219), Output()), _dom_classes=('widget-interac…"
      ]
     },
     "metadata": {},
     "output_type": "display_data"
    }
   ],
   "source": [
    "myshow(sitk.LabelOverlay(recast_image3D, ls>0))"
   ]
  },
  {
   "cell_type": "code",
   "execution_count": 21,
   "metadata": {},
   "outputs": [],
   "source": [
    "ls_thresh = ls>0"
   ]
  },
  {
   "cell_type": "code",
   "execution_count": 22,
   "metadata": {},
   "outputs": [
    {
     "data": {
      "application/vnd.jupyter.widget-view+json": {
       "model_id": "4c50c92ce03f4880a185835d9eb39160",
       "version_major": 2,
       "version_minor": 0
      },
      "text/plain": [
       "interactive(children=(IntSlider(value=109, description='z', max=219), Output()), _dom_classes=('widget-interac…"
      ]
     },
     "metadata": {},
     "output_type": "display_data"
    }
   ],
   "source": [
    "myshow3d(ls_thresh)"
   ]
  },
  {
   "cell_type": "code",
   "execution_count": 23,
   "metadata": {},
   "outputs": [
    {
     "data": {
      "text/plain": [
       "<SimpleITK.SimpleITK.Image; proxy of <Swig Object of type 'std::vector< itk::simple::Image >::value_type *' at 0x00000213818DCAB0> >"
      ]
     },
     "execution_count": 23,
     "metadata": {},
     "output_type": "execute_result"
    }
   ],
   "source": [
    "ls_thresh"
   ]
  },
  {
   "cell_type": "code",
   "execution_count": 24,
   "metadata": {
    "scrolled": true
   },
   "outputs": [],
   "source": [
    "#vectorRadius=(1,1,1)\n",
    "#kernel=sitk.sitkBall\n",
    "#ls_clean = sitk.BinaryMorphologicalClosing(sitk.Cast(ls,sitk.sitkUInt32),vectorRadius,kernel)"
   ]
  },
  {
   "cell_type": "code",
   "execution_count": 25,
   "metadata": {},
   "outputs": [],
   "source": [
    "#gui.MultiImageDisplay(image_list = [sitk.LabelOverlay(recast_image3D, ls>0), \n",
    "#                                sitk.LabelOverlay(recast_image3D, ls_clean>0)], \n",
    "#                  shared_slider=True,\n",
    "#                  title_list = ['before morphological closing', 'after morphological closing'])"
   ]
  },
  {
   "cell_type": "code",
   "execution_count": null,
   "metadata": {
    "scrolled": true
   },
   "outputs": [],
   "source": []
  },
  {
   "cell_type": "code",
   "execution_count": 26,
   "metadata": {},
   "outputs": [],
   "source": [
    "ls_thresh_resize = resample_itk_image.resample_img(ls_thresh,orig_size,True)\n",
    "recast_ls = sitk.Cast(ls_thresh_resize,sitk.sitkUInt8)"
   ]
  },
  {
   "cell_type": "code",
   "execution_count": 27,
   "metadata": {},
   "outputs": [
    {
     "data": {
      "text/plain": [
       "773403.1518097897"
      ]
     },
     "execution_count": 27,
     "metadata": {},
     "output_type": "execute_result"
    }
   ],
   "source": [
    "shape_stats = sitk.LabelShapeStatisticsImageFilter()\n",
    "shape_stats.ComputeOrientedBoundingBoxOn()\n",
    "shape_stats.Execute(recast_ls)\n",
    "shape_stats.GetPhysicalSize(1)"
   ]
  },
  {
   "cell_type": "code",
   "execution_count": 40,
   "metadata": {},
   "outputs": [],
   "source": [
    "# Write the image.\n",
    "output_file_name_3D = os.path.join(OUTPUT_DIR, 'subj1Filt.nii.gz')\n",
    "sitk.WriteImage(ls_thresh_resize, output_file_name_3D)"
   ]
  },
  {
   "cell_type": "code",
   "execution_count": 30,
   "metadata": {},
   "outputs": [
    {
     "data": {
      "text/plain": [
       "-251503.1518097897"
      ]
     },
     "execution_count": 30,
     "metadata": {},
     "output_type": "execute_result"
    }
   ],
   "source": [
    "5.219e5 - shape_stats.GetPhysicalSize(1)"
   ]
  },
  {
   "cell_type": "code",
   "execution_count": 31,
   "metadata": {},
   "outputs": [
    {
     "data": {
      "text/plain": [
       "'C:\\\\Users\\\\david\\\\OneDrive - UW\\\\craniotomy_analysis_data\\\\subj1\\\\output'"
      ]
     },
     "execution_count": 31,
     "metadata": {},
     "output_type": "execute_result"
    }
   ],
   "source": [
    "OUTPUT_DIR"
   ]
  },
  {
   "cell_type": "code",
   "execution_count": null,
   "metadata": {},
   "outputs": [],
   "source": []
  }
 ],
 "metadata": {
  "kernelspec": {
   "display_name": "Python 3 (ipykernel)",
   "language": "python",
   "name": "python3"
  },
  "language_info": {
   "codemirror_mode": {
    "name": "ipython",
    "version": 3
   },
   "file_extension": ".py",
   "mimetype": "text/x-python",
   "name": "python",
   "nbconvert_exporter": "python",
   "pygments_lexer": "ipython3",
   "version": "3.9.7"
  }
 },
 "nbformat": 4,
 "nbformat_minor": 4
}
