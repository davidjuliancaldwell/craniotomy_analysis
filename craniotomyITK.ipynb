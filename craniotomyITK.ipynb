{
 "cells": [
  {
   "cell_type": "code",
   "execution_count": 1,
   "metadata": {},
   "outputs": [],
   "source": [
    "\n",
    "import SimpleITK as sitk\n",
    "\n",
    "#%matplotlib inline\n",
    "import matplotlib.pyplot as plt\n",
    "import numpy as np\n",
    "\n",
    "from ipywidgets import interact, fixed\n",
    "import os\n",
    "import gui\n",
    "import resample_itk_image\n",
    "from myshow import myshow, myshow3d\n",
    "from itertools import chain\n",
    "\n",
    "import pandas as pd\n",
    "\n",
    "%matplotlib widget"
   ]
  },
  {
   "cell_type": "code",
   "execution_count": 2,
   "metadata": {},
   "outputs": [],
   "source": [
    "# options\n",
    "plot_values_hist = False\n",
    "save_seeds = False\n",
    "save_output = False\n",
    "acquire_points = False\n",
    "use_seeds = False\n",
    "load_seed = False\n",
    "use_threshold_only = True\n",
    "\n",
    "# lower and upper intensity thresholds for segmentation \n",
    "lower_threshold = 500\n",
    "upper_threshold = 1800\n"
   ]
  },
  {
   "cell_type": "code",
   "execution_count": 17,
   "metadata": {},
   "outputs": [],
   "source": [
    "# PC\n",
    "data_folder = r\"C:\\Users\\david\\UW\\Ryan Kellogg - Kempe files\\subject_data\"\n",
    "data_folder = os.path.abspath(os.path.expanduser(os.path.expandvars(data_folder)))"
   ]
  },
  {
   "cell_type": "code",
   "execution_count": 18,
   "metadata": {},
   "outputs": [],
   "source": [
    "# create output directories if they don't exist\n",
    "\n",
    "#for root, dirs, files in os.walk(data_folder, topdown=True):\n",
    "    # walking tips from https://stackoverflow.com/questions/42720627/python-os-walk-to-certain-level\n",
    "#    if root[len(data_folder):].count(os.sep) == 2:\n",
    "#        if not (os.path.exists(os.path.join(root,'output'))):\n",
    "#            os.mkdir(os.path.join(root,'output'))"
   ]
  },
  {
   "cell_type": "code",
   "execution_count": 1,
   "metadata": {},
   "outputs": [
    {
     "ename": "NameError",
     "evalue": "name 'os' is not defined",
     "output_type": "error",
     "traceback": [
      "\u001b[0;31m---------------------------------------------------------------------------\u001b[0m",
      "\u001b[0;31mNameError\u001b[0m                                 Traceback (most recent call last)",
      "\u001b[0;32m/var/folders/yg/q8l68dnd11n49t5mp3f6m7840000gp/T/ipykernel_4274/3156984663.py\u001b[0m in \u001b[0;36m<module>\u001b[0;34m\u001b[0m\n\u001b[1;32m      3\u001b[0m \u001b[0mdata_subj_list\u001b[0m \u001b[0;34m=\u001b[0m \u001b[0mlist\u001b[0m\u001b[0;34m(\u001b[0m\u001b[0;34m)\u001b[0m\u001b[0;34m\u001b[0m\u001b[0;34m\u001b[0m\u001b[0m\n\u001b[1;32m      4\u001b[0m \u001b[0moutput_dir_list\u001b[0m \u001b[0;34m=\u001b[0m \u001b[0mlist\u001b[0m\u001b[0;34m(\u001b[0m\u001b[0;34m)\u001b[0m\u001b[0;34m\u001b[0m\u001b[0;34m\u001b[0m\u001b[0m\n\u001b[0;32m----> 5\u001b[0;31m \u001b[0;32mfor\u001b[0m \u001b[0mdata_subj\u001b[0m\u001b[0;34m,\u001b[0m \u001b[0mdirs\u001b[0m\u001b[0;34m,\u001b[0m \u001b[0mfiles\u001b[0m \u001b[0;32min\u001b[0m \u001b[0mos\u001b[0m\u001b[0;34m.\u001b[0m\u001b[0mwalk\u001b[0m\u001b[0;34m(\u001b[0m\u001b[0mdata_folder\u001b[0m\u001b[0;34m,\u001b[0m \u001b[0mtopdown\u001b[0m\u001b[0;34m=\u001b[0m\u001b[0;32mTrue\u001b[0m\u001b[0;34m)\u001b[0m\u001b[0;34m:\u001b[0m\u001b[0;34m\u001b[0m\u001b[0;34m\u001b[0m\u001b[0m\n\u001b[0m\u001b[1;32m      6\u001b[0m     \u001b[0;31m# walking tips from https://stackoverflow.com/questions/42720627/python-os-walk-to-certain-level\u001b[0m\u001b[0;34m\u001b[0m\u001b[0;34m\u001b[0m\u001b[0m\n\u001b[1;32m      7\u001b[0m     \u001b[0;32mif\u001b[0m \u001b[0;34m(\u001b[0m\u001b[0mdata_subj\u001b[0m\u001b[0;34m[\u001b[0m\u001b[0mlen\u001b[0m\u001b[0;34m(\u001b[0m\u001b[0mdata_folder\u001b[0m\u001b[0;34m)\u001b[0m\u001b[0;34m:\u001b[0m\u001b[0;34m]\u001b[0m\u001b[0;34m.\u001b[0m\u001b[0mcount\u001b[0m\u001b[0;34m(\u001b[0m\u001b[0mos\u001b[0m\u001b[0;34m.\u001b[0m\u001b[0msep\u001b[0m\u001b[0;34m)\u001b[0m \u001b[0;34m==\u001b[0m \u001b[0;36m3\u001b[0m\u001b[0;34m)\u001b[0m \u001b[0;32mand\u001b[0m \u001b[0;32mnot\u001b[0m \u001b[0;34m'output'\u001b[0m \u001b[0;32min\u001b[0m \u001b[0mdata_subj\u001b[0m\u001b[0;34m[\u001b[0m\u001b[0mlen\u001b[0m\u001b[0;34m(\u001b[0m\u001b[0mdata_folder\u001b[0m\u001b[0;34m)\u001b[0m\u001b[0;34m:\u001b[0m\u001b[0;34m]\u001b[0m\u001b[0;34m:\u001b[0m\u001b[0;34m\u001b[0m\u001b[0;34m\u001b[0m\u001b[0m\n",
      "\u001b[0;31mNameError\u001b[0m: name 'os' is not defined"
     ]
    }
   ],
   "source": [
    "# generate structure of files \n",
    "\n",
    "data_subj_list = list()\n",
    "output_dir_list = list()\n",
    "for data_subj, dirs, files in os.walk(data_folder, topdown=True):\n",
    "    # walking tips from https://stackoverflow.com/questions/42720627/python-os-walk-to-certain-level\n",
    "    if (data_subj[len(data_folder):].count(os.sep) == 3) and not 'output' in data_subj[len(data_folder):]:\n",
    "  #      print(data_subj)\n",
    "        super_folder = data_subj.rsplit('\\\\',1)\n",
    "        OUTPUT_DIR = os.path.join(super_folder[0],'output')\n",
    "        \n",
    "        data_subj_list.append(data_subj)\n",
    "        output_dir_list.append(OUTPUT_DIR)\n",
    "\n",
    "length_data = len(data_subj_list)"
   ]
  },
  {
   "cell_type": "code",
   "execution_count": 23,
   "metadata": {},
   "outputs": [],
   "source": [
    "select = 0"
   ]
  },
  {
   "cell_type": "code",
   "execution_count": 24,
   "metadata": {},
   "outputs": [
    {
     "name": "stdout",
     "output_type": "stream",
     "text": [
      "Original Image Spacing  (0.369140625, 0.36927621861152, 2.000081777572632)\n",
      "Original Image Size  (512, 677, 108)\n",
      "Resampled Image Spacing  (2.000081777572632, 2.000081777572632, 2.000081777572632)\n",
      "Resampled Image Size  (94, 125, 108)\n",
      "Resampled Image Spacing For Sequential  (0.369140625, 0.369140625, 0.369140625)\n",
      "Resampled Image Size For Sequential (512, 677, 585)\n"
     ]
    }
   ],
   "source": [
    "# Read the original series. First obtain the series file names using the\n",
    "# image series reader.\n",
    "data_subj = data_subj_list[select]\n",
    "OUTPUT_DIR = output_dir_list[select]\n",
    "series_IDs = sitk.ImageSeriesReader.GetGDCMSeriesIDs(data_subj)\n",
    "if not series_IDs:\n",
    "    print(\"ERROR: given directory \\\"\"+data_folder+\"\\\" does not contain a DICOM series.\")\n",
    "\n",
    "series_file_names = sitk.ImageSeriesReader.GetGDCMSeriesFileNames(data_subj, series_IDs[0])\n",
    "\n",
    "series_reader = sitk.ImageSeriesReader()\n",
    "series_reader.SetFileNames(series_file_names)\n",
    "\n",
    "# Configure the reader to load all of the DICOM tags (public+private):\n",
    "# By default tags are not loaded (saves time).\n",
    "# By default if tags are loaded, the private tags are not loaded.\n",
    "# We explicitly configure the reader to load tags, including the\n",
    "# private ones.\n",
    "series_reader.MetaDataDictionaryArrayUpdateOn()\n",
    "#series_reader.LoadPrivateTagsOn()\n",
    "image3D = series_reader.Execute()\n",
    "\n",
    "reader = sitk.ImageFileReader()\n",
    "reader.SetFileName(series_file_names[0])\n",
    "#reader.LoadPrivateTagsOn();\n",
    "\n",
    "reader.ReadImageInformation();\n",
    "\n",
    "#for k in reader.GetMetaDataKeys():\n",
    "#    v = reader.GetMetaData(k)\n",
    "#    print(\"({0}) = = \\\"{1}\\\"\".format(k,v))\n",
    "\n",
    "print('Original Image Spacing ',image3D.GetSpacing())\n",
    "print('Original Image Size ', image3D.GetSize())\n",
    "\n",
    "orig_size = image3D.GetSize()\n",
    "orig_spacing = image3D.GetSpacing()\n",
    "min_orig = min(orig_spacing)\n",
    "max_orig = max(orig_spacing)\n",
    "\n",
    "image3D_resample = resample_itk_image.resample_img(image3D,[max_orig,max_orig,max_orig])\n",
    "\n",
    "print('Resampled Image Spacing ',image3D_resample.GetSpacing())\n",
    "print('Resampled Image Size ', image3D_resample.GetSize())\n",
    "\n",
    "image3D_resample_seq = resample_itk_image.resample_img(image3D,[min_orig,min_orig,min_orig])\n",
    "\n",
    "print('Resampled Image Spacing For Sequential ',image3D_resample_seq.GetSpacing())\n",
    "print('Resampled Image Size For Sequential', image3D_resample_seq.GetSize())\n",
    "\n",
    "# recast types as necessary for analysis \n",
    "\n",
    "recast_image3D = sitk.Cast(sitk.RescaleIntensity(image3D_resample), sitk.sitkUInt8)\n",
    "recast32_image3D = sitk.Cast(image3D_resample, sitk.sitkFloat32)\n",
    "recast32_image3D_seq = sitk.Cast(image3D_resample_seq, sitk.sitkFloat32)\n",
    "recastUint8_image3D_seq = sitk.Cast(image3D_resample_seq, sitk.sitkUInt8)\n",
    "\n",
    "#\n",
    "#img = sitk.ReadImage(series_file_names)\n",
    "\n",
    "# plot halfway \n",
    "#z = int(image3D.GetDepth()/2)\n",
    "#plt.imshow(sitk.GetArrayViewFromImage(image3D)[z,:,:], cmap=plt.cm.Greys_r)\n",
    "#plt.axis('off');\n",
    "\n",
    "intensity_values = sitk.GetArrayViewFromImage(image3D)\n",
    "values_list = list(intensity_values)\n",
    "values_flattened = list(chain.from_iterable(values_list))\n",
    "values_flattened = np.array(values_flattened).flatten()\n",
    "\n",
    "if plot_values_hist:\n",
    "    plt.figure()\n",
    "    plt.hist(values_flattened, bins=100)\n",
    "    plt.title(\"Intensity Values in ROI\")\n",
    "    plt.show()      "
   ]
  },
  {
   "cell_type": "code",
   "execution_count": 25,
   "metadata": {},
   "outputs": [],
   "source": [
    "# try histogram \n",
    "if use_threshold_only:\n",
    "    seg = sitk.BinaryThreshold(image3D_resample_seq, lowerThreshold=lower_threshold, upperThreshold=upper_threshold, insideValue=1, outsideValue=0)\n",
    "    \n",
    "   # vector_radius_open=(1,1,1)\n",
    "    vector_radius_close=(3,3,3)\n",
    "    kernel=sitk.sitkBall\n",
    "    seg_resized_clean = sitk.BinaryMorphologicalClosing(seg, vector_radius_close, kernel)\n",
    "  #  seg_resized_clean = sitk.BinaryMorphologicalOpening(seg_resized_clean, vector_radius_open, kernel)\n",
    "\n",
    "    seg_resized_clean = resample_itk_image.resample_img_set_back_orig(seg_resized_clean,orig_spacing,orig_size,True)\n",
    "    \n",
    "    seg_resized = resample_itk_image.resample_img_set_back_orig(seg,orig_spacing,orig_size,True)\n",
    "    \n",
    "    connected = sitk.ConnectedComponent(seg_resized_clean)\n",
    "    connected = sitk.RelabelComponent(connected,sortByObjectSize=True)\n",
    "    connected_select = connected == 1\n",
    "    connected_resized = resample_itk_image.resample_img_set_back_orig(connected_select,orig_spacing,orig_size,True)\n",
    "\n",
    "    \n",
    "\n",
    "\n",
    "    #seg = sitk.Image(image3D_resample.GetSize(), sitk.sitkUInt8)\n",
    "#seg.CopyInformation(image3D_resample)\n"
   ]
  },
  {
   "cell_type": "code",
   "execution_count": 26,
   "metadata": {},
   "outputs": [
    {
     "data": {
      "application/vnd.jupyter.widget-view+json": {
       "model_id": "75b19e1a04c04dfa852629e956146723",
       "version_major": 2,
       "version_minor": 0
      },
      "text/plain": [
       "interactive(children=(IntSlider(value=53, description='z', max=107), Output()), _dom_classes=('widget-interact…"
      ]
     },
     "metadata": {},
     "output_type": "display_data"
    }
   ],
   "source": [
    "myshow3d(image3D)"
   ]
  },
  {
   "cell_type": "code",
   "execution_count": 27,
   "metadata": {},
   "outputs": [
    {
     "data": {
      "application/vnd.jupyter.widget-view+json": {
       "model_id": "bb686a8624374d468bdea619eeec8632",
       "version_major": 2,
       "version_minor": 0
      },
      "text/plain": [
       "interactive(children=(IntSlider(value=53, description='z', max=107), Output()), _dom_classes=('widget-interact…"
      ]
     },
     "metadata": {},
     "output_type": "display_data"
    }
   ],
   "source": [
    "myshow3d(connected_select)\n"
   ]
  },
  {
   "cell_type": "code",
   "execution_count": 62,
   "metadata": {},
   "outputs": [
    {
     "data": {
      "application/vnd.jupyter.widget-view+json": {
       "model_id": "a8298bf1356840c89dc00d1430f3555d",
       "version_major": 2,
       "version_minor": 0
      },
      "text/plain": [
       "HBox(children=(HBox(children=(Box(children=(RadioButtons(description='Interaction mode:', options=('edit', 'vi…"
      ]
     },
     "metadata": {},
     "output_type": "display_data"
    },
    {
     "data": {
      "application/vnd.jupyter.widget-view+json": {
       "model_id": "3b840f15988d494fbdf582217da824c8",
       "version_major": 2,
       "version_minor": 0
      },
      "text/plain": [
       "Canvas(toolbar=Toolbar(toolitems=[('Home', 'Reset original view', 'home', 'home'), ('Back', 'Back to previous …"
      ]
     },
     "metadata": {},
     "output_type": "display_data"
    }
   ],
   "source": [
    "# select points\n",
    "if acquire_points and use_seeds:\n",
    "    point_acquisition_interface = gui.PointDataAquisition(image3D_resample)"
   ]
  },
  {
   "cell_type": "code",
   "execution_count": 63,
   "metadata": {},
   "outputs": [],
   "source": [
    "if acquire_points and use_seeds:\n",
    "    initial_seed_point_indexes = point_acquisition_interface.get_point_indexes()\n",
    "\n",
    "    # write points used to file for validation \n",
    "    initial_seed_point_indexes\n",
    "    if save_seeds:\n",
    "        np.savetxt(os.path.join(OUTPUT_DIR,'seeds.csv'),initial_seed_point_indexes,delimiter=',')\n"
   ]
  },
  {
   "cell_type": "code",
   "execution_count": 64,
   "metadata": {},
   "outputs": [],
   "source": [
    "if load_seed and use_seeds:\n",
    "    initial_seed_point_indexes = np.loadtxt(os.path.join(OUTPUT_DIR,'seeds.csv'),delimiter=',')\n",
    "    initial_seed_point_indexes = initial_seed_point_indexes.astype(int)\n",
    "    initial_seed_point_indexes = initial_seed_point_indexes.tolist()"
   ]
  },
  {
   "cell_type": "code",
   "execution_count": 65,
   "metadata": {},
   "outputs": [
    {
     "data": {
      "application/vnd.jupyter.widget-view+json": {
       "model_id": "9cf731781c1349eaa360bd99701ac1c5",
       "version_major": 2,
       "version_minor": 0
      },
      "text/plain": [
       "interactive(children=(IntSlider(value=53, description='z', max=107), Output()), _dom_classes=('widget-interact…"
      ]
     },
     "metadata": {},
     "output_type": "display_data"
    }
   ],
   "source": [
    "# implicit thresholds \n",
    "\n",
    "#seg_implicit_thresholds = sitk.ConfidenceConnected(image3D, seedList=initial_seed_point_indexes,\n",
    "#                                                   numberOfIterations=1,\n",
    "#                                                   multiplier=2,\n",
    "#                                                   initialNeighborhoodRadius=5,\n",
    "#                                                   replaceValue=1)\n",
    "\n",
    "#seg_implicit_thresholds = sitk.ConnectedThreshold(image3D_resample, seedList=initial_seed_point_indexes, lower=400, upper=1700)\n",
    "\n",
    "#gui.MultiImageDisplay(image_list = [sitk.LabelOverlay(recast_image3D, seg_implicit_thresholds)],title_list = ['confidence connected result'])\n",
    "\n",
    "#myshow3d(seg_implicit_thresholds)\n",
    "if use_seeds:\n",
    "    seg = sitk.Image(image3D_resample.GetSize(), sitk.sitkUInt8)\n",
    "    seg.CopyInformation(image3D_resample)\n",
    "    for index in range(1,len(initial_seed_point_indexes)):\n",
    "        seg[initial_seed_point_indexes[index]] = 1\n",
    "    seg = sitk.BinaryDilate(seg, 10)\n",
    "\n",
    "    myshow(sitk.LabelOverlay(recast_image3D, seg))"
   ]
  },
  {
   "cell_type": "code",
   "execution_count": 66,
   "metadata": {},
   "outputs": [],
   "source": [
    "#stats = sitk.LabelStatisticsImageFilter()\n",
    "#stats.Execute(image3D, seg)\n",
    "\n",
    "#factor = 3.5\n",
    "#lower_threshold = stats.GetMean(1)-factor*stats.GetSigma(1)\n",
    "#upper_threshold = stats.GetMean(1)+factor*stats.GetSigma(1)\n",
    "#print(stats)\n",
    "\n",
    "\n",
    "# intialize distance map\n",
    "if use_seeds:\n",
    "    init_ls = sitk.SignedMaurerDistanceMap(seg, insideIsPositive=True, useImageSpacing=True)\n",
    "\n",
    "    # initialize threshold segmentation level set filter\n",
    "    lsFilter = sitk.ThresholdSegmentationLevelSetImageFilter()\n",
    "    lsFilter.SetLowerThreshold(lower_threshold)\n",
    "    lsFilter.SetUpperThreshold(upper_threshold)\n",
    "    lsFilter.SetMaximumRMSError(0.01)\n",
    "    lsFilter.SetNumberOfIterations(1000)\n",
    "    lsFilter.SetCurvatureScaling(1)\n",
    "    lsFilter.SetPropagationScaling(1)\n",
    "    lsFilter.ReverseExpansionDirectionOn()\n",
    "\n",
    "    #niter = 0\n",
    "    #for i in range(0,10):\n",
    "    #    ls = lsFilter.Execute(init_ls,recast32_image3D)\n",
    "    #    niter += lsFilter.GetNumberOfIterations()\n",
    "    #    t = \"LevelSet after \"+str(niter)+\" iterations and RMS \"+str(lsFilter.GetRMSChange())\n",
    "    #    fig = myshow(sitk.LabelOverlay(recast_image3D, ls > 0),title=t)\n",
    "\n",
    "    # run filter\n",
    "    ls = lsFilter.Execute(init_ls,recast32_image3D)    \n",
    "\n",
    "    # print results \n",
    "    print(lsFilter)\n",
    "\n",
    "    #myshow(sitk.LabelOverlay(recast_image3D, ls>0))\n",
    "    # extract >0 values for segmentation \n",
    "    ls_thresh = ls>0\n",
    "\n",
    "    image3D_resample_seq_intermed = resample_itk_image.resample_img_set_back_orig(ls_thresh,orig_spacing,orig_size,True)\n",
    "    image3D_resample_seq = resample_itk_image.resample_img(image3D_resample_seq_intermed,[min_orig,min_orig,min_orig],True)"
   ]
  },
  {
   "cell_type": "code",
   "execution_count": 45,
   "metadata": {},
   "outputs": [
    {
     "name": "stdout",
     "output_type": "stream",
     "text": [
      "itk::simple::ThresholdSegmentationLevelSetImageFilter\n",
      "  LowerThreshold: 500\n",
      "  UpperThreshold: 1800\n",
      "  MaximumRMSError: 0.005\n",
      "  PropagationScaling: 1\n",
      "  CurvatureScaling: 1\n",
      "  NumberOfIterations: 1000\n",
      "  ReverseExpansionDirection: 1\n",
      "  ElapsedIterations: 17\n",
      "  RMSChange: 0.00492387\n",
      "  Debug: 0\n",
      "  NumberOfThreads: 12\n",
      "  Commands: (none)\n",
      "  ProgressMeasurement: 0.017\n",
      "  ActiveProcess: (none)\n",
      "\n"
     ]
    }
   ],
   "source": [
    "# intialize distance map\n",
    "if use_seeds:\n",
    "    init_ls_seq = sitk.SignedMaurerDistanceMap(image3D_resample_seq, insideIsPositive=True, useImageSpacing=True)\n",
    "elif use_threshold_only:\n",
    "    init_ls_seq = sitk.SignedMaurerDistanceMap(seg, insideIsPositive=True, useImageSpacing=True)\n",
    "\n",
    "# initialize threshold segmentation level set filter\n",
    "lsFilterSeq = sitk.ThresholdSegmentationLevelSetImageFilter()\n",
    "lsFilterSeq.SetLowerThreshold(lower_threshold)\n",
    "lsFilterSeq.SetUpperThreshold(upper_threshold)\n",
    "lsFilterSeq.SetMaximumRMSError(0.005)\n",
    "lsFilterSeq.SetNumberOfIterations(1000)\n",
    "lsFilterSeq.SetCurvatureScaling(1)\n",
    "lsFilterSeq.SetPropagationScaling(1)\n",
    "lsFilterSeq.ReverseExpansionDirectionOn()\n",
    "\n",
    "# run filter\n",
    "lsSeq = lsFilterSeq.Execute(init_ls_seq,recast32_image3D_seq)    \n",
    "\n",
    "# print results \n",
    "print(lsFilterSeq)\n",
    "\n",
    "#myshow(sitk.LabelOverlay(recast_image3D, ls>0))\n",
    "# extract >0 values for segmentation \n",
    "ls_thresh_seq = lsSeq>0"
   ]
  },
  {
   "cell_type": "code",
   "execution_count": 130,
   "metadata": {},
   "outputs": [
    {
     "data": {
      "application/vnd.jupyter.widget-view+json": {
       "model_id": "3f56c3d6cc484b2f91192261ac2d92d5",
       "version_major": 2,
       "version_minor": 0
      },
      "text/plain": [
       "interactive(children=(IntSlider(value=292, description='z', max=584), Output()), _dom_classes=('widget-interac…"
      ]
     },
     "metadata": {},
     "output_type": "display_data"
    },
    {
     "name": "stdout",
     "output_type": "stream",
     "text": [
      "Final Image Spacing  (0.369140625, 0.36927621861152, 2.000081777572632)\n",
      "Final Image Size  (512, 677, 108)\n"
     ]
    }
   ],
   "source": [
    "myshow3d(ls_thresh_seq)\n",
    "\n",
    "ls_thresh_resize = resample_itk_image.resample_img_set_back_orig(ls_thresh_seq,orig_spacing,orig_size,True)\n",
    "recast_ls = sitk.Cast(ls_thresh_resize,sitk.sitkUInt8)\n",
    "\n",
    "print('Final Image Spacing ',ls_thresh_resize.GetSpacing())\n",
    "print('Final Image Size ', ls_thresh_resize.GetSize())\n",
    "\n",
    "#shape_stats = sitk.LabelShapeStatisticsImageFilter()\n",
    "#shape_stats.ComputeOrientedBoundingBoxOn()\n",
    "#shape_stats.Execute(recast_ls)\n",
    "#shape_stats.GetPhysicalSize(1)\n",
    "\n",
    "# Write the image.\n",
    "if save_output:\n",
    "    if use_seeds:\n",
    "        output_file_name_3D = os.path.join(OUTPUT_DIR, 'segmentation_threshold_only.nii')\n",
    "        sitk.WriteImage(ls_thresh_resize, output_file_name_3D)   \n",
    "        \n",
    "    if use_threshold_only:\n",
    "        output_file_name_3D = os.path.join(OUTPUT_DIR, 'segmentation_threshold_only.nii')\n",
    "        sitk.WriteImage(ls_thresh_resize, output_file_name_3D)\n",
    "\n",
    "        output_file_name_3D = os.path.join(OUTPUT_DIR, 'segmentation_threshold_only_seg.nii')\n",
    "        sitk.WriteImage(seg_resized, output_file_name_3D)\n",
    "\n",
    "        output_file_name_3D = os.path.join(OUTPUT_DIR, 'segmentation_threshold.nii')\n",
    "        sitk.WriteImage(seg_resized_clean, output_file_name_3D)\n",
    "        \n",
    "        output_file_name_3D = os.path.join(OUTPUT_DIR, 'segmentation_threshold_connected.nii')\n",
    "        sitk.WriteImage(seg_resized_clean_connected, output_file_name_3D)"
   ]
  },
  {
   "cell_type": "code",
   "execution_count": null,
   "metadata": {},
   "outputs": [],
   "source": []
  },
  {
   "cell_type": "code",
   "execution_count": null,
   "metadata": {},
   "outputs": [],
   "source": []
  }
 ],
 "metadata": {
  "kernelspec": {
   "display_name": "Python 3 (ipykernel)",
   "language": "python",
   "name": "python3"
  },
  "language_info": {
   "codemirror_mode": {
    "name": "ipython",
    "version": 3
   },
   "file_extension": ".py",
   "mimetype": "text/x-python",
   "name": "python",
   "nbconvert_exporter": "python",
   "pygments_lexer": "ipython3",
   "version": "3.9.7"
  }
 },
 "nbformat": 4,
 "nbformat_minor": 4
}
